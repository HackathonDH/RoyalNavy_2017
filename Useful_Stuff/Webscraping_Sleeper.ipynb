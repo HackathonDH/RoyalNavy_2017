{
 "cells": [
  {
   "cell_type": "code",
   "execution_count": 7,
   "metadata": {
    "collapsed": true
   },
   "outputs": [],
   "source": [
    "import requests\n",
    "from requests_throttler import BaseThrottler\n",
    "from bs4 import BeautifulSoup"
   ]
  },
  {
   "cell_type": "code",
   "execution_count": 8,
   "metadata": {
    "collapsed": false
   },
   "outputs": [
    {
     "data": {
      "text/plain": [
       "['http://www.pdavis.nl/ShowBiog.php?id=1',\n",
       " 'http://www.pdavis.nl/ShowBiog.php?id=2',\n",
       " 'http://www.pdavis.nl/ShowBiog.php?id=3',\n",
       " 'http://www.pdavis.nl/ShowBiog.php?id=4',\n",
       " 'http://www.pdavis.nl/ShowBiog.php?id=5',\n",
       " 'http://www.pdavis.nl/ShowBiog.php?id=6',\n",
       " 'http://www.pdavis.nl/ShowBiog.php?id=7',\n",
       " 'http://www.pdavis.nl/ShowBiog.php?id=8',\n",
       " 'http://www.pdavis.nl/ShowBiog.php?id=9',\n",
       " 'http://www.pdavis.nl/ShowBiog.php?id=10']"
      ]
     },
     "execution_count": 8,
     "metadata": {},
     "output_type": "execute_result"
    }
   ],
   "source": [
    "\n",
    "pers_id = 1\n",
    "x = []\n",
    "\n",
    "for element in range(10):\n",
    "    x.append(\"http://www.pdavis.nl/ShowBiog.php?id=\" + str(pers_id))\n",
    "    pers_id+=1\n",
    "x\n",
    "\n"
   ]
  },
  {
   "cell_type": "code",
   "execution_count": 27,
   "metadata": {
    "collapsed": false
   },
   "outputs": [
    {
     "name": "stderr",
     "output_type": "stream",
     "text": [
      "[Thread=MainThread - 2017-02-20 18:35:50,136 - INFO]: Starting base throttler 'base-throttler'...\n",
      "[Thread=Thread-50 - 2017-02-20 18:35:50,204 - INFO]: Starting main loop...\n",
      "[Thread=Thread-50 - 2017-02-20 18:35:50,244 - INFO]: Exited from main loop.\n",
      "[Thread=MainThread - 2017-02-20 18:35:50,305 - INFO]: Starting base throttler 'base-throttler'...\n",
      "[Thread=Thread-51 - 2017-02-20 18:35:50,320 - INFO]: Starting main loop...\n",
      "[Thread=Thread-51 - 2017-02-20 18:35:50,355 - INFO]: Exited from main loop.\n"
     ]
    },
    {
     "name": "stdout",
     "output_type": "stream",
     "text": [
      "[ThrottledRequest <<PreparedRequest [GET]>, <Response [200]>, True, None>]\n",
      " Charles Adam R.N.\n",
      "[ThrottledRequest <<PreparedRequest [GET]>, <Response [200]>, True, None>]\n",
      " George Biddell Airy\n"
     ]
    },
    {
     "name": "stderr",
     "output_type": "stream",
     "text": [
      "[Thread=MainThread - 2017-02-20 18:35:50,472 - INFO]: Starting base throttler 'base-throttler'...\n",
      "[Thread=Thread-52 - 2017-02-20 18:35:50,530 - INFO]: Starting main loop...\n",
      "[Thread=Thread-52 - 2017-02-20 18:35:50,564 - INFO]: Exited from main loop.\n",
      "[Thread=MainThread - 2017-02-20 18:35:50,621 - INFO]: Starting base throttler 'base-throttler'...\n",
      "[Thread=Thread-53 - 2017-02-20 18:35:50,661 - INFO]: Starting main loop...\n",
      "[Thread=Thread-53 - 2017-02-20 18:35:50,702 - INFO]: Exited from main loop.\n"
     ]
    },
    {
     "name": "stdout",
     "output_type": "stream",
     "text": [
      "[ThrottledRequest <<PreparedRequest [GET]>, <Response [200]>, True, None>]\n",
      " Bird Allen R.N.\n",
      "[ThrottledRequest <<PreparedRequest [GET]>, <Response [200]>, True, None>]\n",
      " William Allen R.N.\n"
     ]
    },
    {
     "name": "stderr",
     "output_type": "stream",
     "text": [
      "[Thread=MainThread - 2017-02-20 18:35:50,788 - INFO]: Starting base throttler 'base-throttler'...\n",
      "[Thread=Thread-54 - 2017-02-20 18:35:50,857 - INFO]: Starting main loop...\n",
      "[Thread=Thread-54 - 2017-02-20 18:35:50,867 - INFO]: Start waiting for new requests...\n",
      "[Thread=Thread-54 - 2017-02-20 18:35:50,878 - INFO]: Awakening...\n",
      "[Thread=Thread-54 - 2017-02-20 18:35:50,905 - INFO]: Exited from main loop.\n",
      "[Thread=MainThread - 2017-02-20 18:35:50,958 - INFO]: Starting base throttler 'base-throttler'...\n",
      "[Thread=Thread-55 - 2017-02-20 18:35:51,015 - INFO]: Starting main loop...\n",
      "[Thread=Thread-55 - 2017-02-20 18:35:51,034 - INFO]: Exited from main loop.\n"
     ]
    },
    {
     "name": "stdout",
     "output_type": "stream",
     "text": [
      "[ThrottledRequest <<PreparedRequest [GET]>, <Response [200]>, True, None>]\n",
      " Alexander Armstrong, M.D., F.R.S. R.N.\n",
      "[ThrottledRequest <<PreparedRequest [GET]>, <Response [200]>, True, None>]\n",
      " John Ayliff\n"
     ]
    },
    {
     "name": "stderr",
     "output_type": "stream",
     "text": [
      "[Thread=MainThread - 2017-02-20 18:35:51,107 - INFO]: Starting base throttler 'base-throttler'...\n",
      "[Thread=Thread-56 - 2017-02-20 18:35:51,159 - INFO]: Starting main loop...\n",
      "[Thread=Thread-56 - 2017-02-20 18:35:51,191 - INFO]: Exited from main loop.\n",
      "[Thread=MainThread - 2017-02-20 18:35:51,293 - INFO]: Starting base throttler 'base-throttler'...\n"
     ]
    },
    {
     "name": "stdout",
     "output_type": "stream",
     "text": [
      "[ThrottledRequest <<PreparedRequest [GET]>, <Response [200]>, True, None>]\n",
      "Rev. George Percy Badger\n",
      "[ThrottledRequest <<PreparedRequest [GET]>, <Response [200]>, True, None>]\n"
     ]
    },
    {
     "name": "stderr",
     "output_type": "stream",
     "text": [
      "[Thread=Thread-57 - 2017-02-20 18:35:51,356 - INFO]: Starting main loop...\n",
      "[Thread=Thread-57 - 2017-02-20 18:35:51,422 - INFO]: Exited from main loop.\n",
      "[Thread=MainThread - 2017-02-20 18:35:51,485 - INFO]: Starting base throttler 'base-throttler'...\n",
      "[Thread=Thread-58 - 2017-02-20 18:35:51,516 - INFO]: Starting main loop...\n",
      "[Thread=Thread-58 - 2017-02-20 18:35:51,561 - INFO]: Exited from main loop.\n"
     ]
    },
    {
     "name": "stdout",
     "output_type": "stream",
     "text": [
      " Thomas George Baring\n",
      "[ThrottledRequest <<PreparedRequest [GET]>, <Response [200]>, True, None>]\n",
      " John Barrow\n"
     ]
    },
    {
     "name": "stderr",
     "output_type": "stream",
     "text": [
      "[Thread=MainThread - 2017-02-20 18:35:51,619 - INFO]: Starting base throttler 'base-throttler'...\n"
     ]
    },
    {
     "name": "stdout",
     "output_type": "stream",
     "text": [
      "[ThrottledRequest <<PreparedRequest [GET]>, <Response [200]>, True, None>]\n",
      " Philip Beaver R.N.\n"
     ]
    },
    {
     "name": "stderr",
     "output_type": "stream",
     "text": [
      "[Thread=Thread-59 - 2017-02-20 18:35:51,668 - INFO]: Starting main loop...\n",
      "[Thread=Thread-59 - 2017-02-20 18:35:51,736 - INFO]: Exited from main loop.\n"
     ]
    }
   ],
   "source": [
    "counter = 0 \n",
    "\n",
    "for element in x:\n",
    "    bt = BaseThrottler(name=\"base-throttler\", delay=1.5)\n",
    "    r = requests.get(x[counter])\n",
    "    bt.start()\n",
    "    #throttled_requests = bt.submit(r)\n",
    "    print(throttled_requests)\n",
    "    bt.shutdown()\n",
    "    soup = BeautifulSoup(r.text, \"html.parser\")\n",
    "    table = soup.find(\"table\", class_=\"tbl width100\")\n",
    "    name = table.find(\"td\", class_=\"tblfil\", colspan=\"3\")\n",
    "    name = name.text\n",
    "    print(name)\n",
    "    counter+=1\n",
    "    \n",
    "    \n",
    "    "
   ]
  },
  {
   "cell_type": "code",
   "execution_count": 3,
   "metadata": {
    "collapsed": false
   },
   "outputs": [
    {
     "data": {
      "text/plain": [
       "<!DOCTYPE HTML>\n",
       "\n",
       "<html>\n",
       "<head>\n",
       "<meta content=\"text/html; charset=utf-8\" http-equiv=\"Content-Type\">\n",
       "<link href=\"misc/pdavis.css\" rel=\"StyleSheet\" type=\"text/css\">\n",
       "<title>Biography of  Charles Adam R.N.</title></link></meta></head>\n",
       "<body><div id=\"wrapper\">\n",
       "<a id=\"Top\"></a>\n",
       "<table class=\"fullwidthtable\">\n",
       "<tr>\n",
       "<td class=\"headlinksleft\">\n",
       " <img alt=\"*\" src=\"gif/Bullet.gif\">\n",
       "<a href=\"index.htm\">Home</a>\n",
       "<img alt=\"*\" src=\"gif/Bullet.gif\">\n",
       "<a href=\"Loney.htm\">Loney home</a>\n",
       "<img alt=\"*\" src=\"gif/Bullet.gif\">\n",
       "<a href=\"Life.htm\">Life &amp; career</a>\n",
       "<img alt=\"*\" src=\"gif/Bullet.gif\">\n",
       "<a href=\"Documents.htm\">Documents</a>\n",
       "<img alt=\"*\" src=\"gif/Bullet.gif\">\n",
       "<a href=\"Album.htm\">Album</a>\n",
       "<img alt=\"*\" src=\"gif/Bullet.gif\">\n",
       "<a href=\"Ships.htm\">Ships</a>\n",
       "<img alt=\"*\" src=\"gif/Bullet.gif\">\n",
       "<a href=\"Portrait.htm\">Portrait</a>\n",
       "<img alt=\"*\" src=\"gif/Bullet.gif\">\n",
       "<a href=\"Uniform.htm\">Uniform</a>\n",
       "<img alt=\"*\" src=\"gif/Bullet.gif\">\n",
       "<a href=\"Background.htm\">Background</a>\n",
       "<img alt=\"*\" src=\"gif/Bullet.gif\">\n",
       "</img></img></img></img></img></img></img></img></img></img></td>\n",
       "<td class=\"headlinksright\"><img alt=\"*\" src=\"gif/Bullet.gif\"><a href=\"Search.htm\"> Search this site </a><img alt=\"*\" src=\"gif/Bullet.gif\"> </img></img></td>\n",
       "</tr>\n",
       "</table>\n",
       "<table class=\"fullwidthtable\">\n",
       "<tr>\n",
       "<td><div class=\"WhiteHeader\">William Loney RN - Background</div></td>\n",
       "</tr>\n",
       "</table>\n",
       "<a id=\"TextTop\"></a>\n",
       "<hr class=\"colr\">\n",
       "<table class=\"width100\">\n",
       "<tr>\n",
       "<td><a href=\"index.htm\">Home</a>-<a href=\"Loney.htm\">Loney</a>-<a href=\"Background.htm\">Background</a>-<a href=\"Background.htm#BIO\">The Royal Navy</a></td>\n",
       "<td class=\"pright\"> Browse officers in command: <a href=\"SeaOfficers.php?page=1\">A - B</a>; <a href=\"SeaOfficers.php?page=2\">C - E</a>; <a href=\"SeaOfficers.php?page=3\">F - G</a>; <a href=\"SeaOfficers.php?page=4\">H - K</a>; <a href=\"SeaOfficers.php?page=5\">L - O</a>; <a href=\"SeaOfficers.php?page=6\">P - R</a>; <a href=\"SeaOfficers.php?page=7\">S - T</a>; <a href=\"SeaOfficers.php?page=8\">U - Z</a>; <a href=\"Selecter.php\">??</a></td></tr></table>\n",
       "<hr class=\"colr\">\n",
       "<table class=\"tbl width100\">\n",
       "<colgroup><col><col class=\"width15\"><col class=\"width55\"><col class=\"width15\"></col></col></col></col></colgroup><tr><td style=\"border:none;\"> </td><td style=\"border:none;\"> </td><td style=\"border:none;\"> </td><td style=\"border:none;\"> </td></tr><tr><td class=\"tblfil\" colspan=\"3\" style=\"border-right:none;\"><b> Charles Adam R.N.</b></td><td class=\"tblfil\" style=\"border-left:none;\"><a href=\"OfficerExplanation.htm\">Explanation</a></td></tr>\n",
       "<tr><td colspan=\"4\">Son of the Rt Hon. William Adam, Lord Chief Commissioner of the Jury Court of Scotland.</td></tr>\n",
       "<tr><td colspan=\"4\"> </td></tr><tr><td class=\"tblfil2 right\">Date (from)</td><td class=\"tblfil2 right\">(Date to)</td><td class=\"tblfil2\" colspan=\"2\">Personal</td>\n",
       "<tr><td class=\"right\">6 October 1780</td><td> </td><td colspan=\"2\">Born.</td></tr>\n",
       "<tr><td class=\"right\">20 May 1831</td><td class=\"right\">6 July 1841</td><td colspan=\"2\">M.P. for Clackmannan and Kinross</td></tr>\n",
       "<tr><td class=\"right\">10 January 1835</td><td> </td><td colspan=\"2\">K.C.B. (Knight Commander of the Bath).</td></tr>\n",
       "<tr><td class=\"right\">19 September 1853</td><td> </td><td colspan=\"2\">Died.</td></tr>\n",
       "<tr><td colspan=\"4\">Literature: (<a href=\"ShowBooks.php?id=*23*56*\">DNB; Stenton</a>).</td></tr>\n",
       "<tr><td colspan=\"4\"> </td></tr><tr><td class=\"tblfil2 right\">Date</td><td class=\"tblfil2\" colspan=\"3\">Rank</td></tr>\n",
       "<tr><td class=\"right\">15 December 1790</td><td colspan=\"3\">Entered Navy</td></tr>\n",
       "<tr><td class=\"right\">8 February 1798</td><td colspan=\"3\">Lieutenant</td></tr>\n",
       "<tr><td class=\"right\">16 May 1798</td><td colspan=\"3\">Commander</td></tr>\n",
       "<tr><td class=\"right\">12 June 1799</td><td colspan=\"3\">Captain</td></tr>\n",
       "<tr><td class=\"right\">27 May 1825</td><td colspan=\"3\">Rear-Admiral</td></tr>\n",
       "<tr><td class=\"right\">10 January 1837</td><td colspan=\"3\">Vice-Admiral</td></tr>\n",
       "<tr><td class=\"right\">8 January 1848</td><td colspan=\"3\">Admiral</td></tr>\n",
       "<tr><td colspan=\"4\"> </td></tr><tr><td class=\"tblfil2 right\">Date from</td><td class=\"tblfil2 right\">Date to</td><td class=\"tblfil2\" colspan=\"2\">Service</td></tr>\n",
       "<tr><td class=\"right\">1799</td><td> </td><td colspan=\"2\">Captain in <a href=\"ShowShip.php?id=2463\">Sybille</a>, frigate</td></tr>\n",
       "<tr><td class=\"right\">23 May 1803</td><td class=\"right\">1805</td><td colspan=\"2\">Captain in <a href=\"ShowShip.php?id=2391\">Chiffonne</a>, frigate (French, captured by him in 1801)</td></tr>\n",
       "<tr><td class=\"right\">27 August 1805</td><td class=\"right\">6 April 1810</td><td colspan=\"2\">Captain in <a href=\"ShowShip.php?id=1977\">Resistance</a></td></tr>\n",
       "<tr><td class=\"right\">1811</td><td class=\"right\">1813</td><td colspan=\"2\">Captain in <a href=\"ShowShip.php?id=1627\">Invincible</a></td></tr>\n",
       "<tr><td class=\"right\">16 May 1814</td><td class=\"right\">29 June 1814</td><td colspan=\"2\">Captain in <a href=\"ShowShip.php?id=1599\">Impregnable</a></td></tr>\n",
       "<tr><td class=\"right\">15 December 1814</td><td class=\"right\">7 February 1816</td><td colspan=\"2\">Acting Captain in <a href=\"ShowShip.php?id=2015\">Royal Sovereign</a></td></tr>\n",
       "<tr><td class=\"right\">20 July 1821</td><td class=\"right\">25 May 1825</td><td colspan=\"2\">Captain in <a href=\"ShowShip.php?id=2015\">Royal Sovereign</a></td></tr>\n",
       "<tr><td class=\"right\">1 November 1834</td><td class=\"right\">23 December 1834</td><td colspan=\"2\">Commissioner of the Admiralty (1st Naval Lord)</td></tr>\n",
       "<tr><td class=\"right\">25 April 1835</td><td class=\"right\">8 September 1841</td><td colspan=\"2\">Commissioner of the Admiralty (1st Naval Lord)</td></tr>\n",
       "<tr><td class=\"right\">17 August 1841</td><td class=\"right\">27 December 1844</td><td colspan=\"2\">Commander-in-chief, North America and West Indies (flag in Illustrious)</td></tr>\n",
       "<tr><td class=\"right\">24 July 1846</td><td class=\"right\">20 July 1847</td><td colspan=\"2\">Commissioner of the Admiralty (1st Naval Lord)</td></tr>\n",
       "<tr><td class=\"right\">1847</td><td> </td><td colspan=\"2\">Governor of Greenwich Hospital</td></tr>\n",
       "</tr></table>\n",
       "<table class=\"width100\"><tr><td>\n",
       "<a href=\"#Top\">Top</a>\n",
       "</td><td class=\"pright\">\n",
       " \n",
       "</td></tr>\n",
       "</table>\n",
       "<hr class=\"colr\">\n",
       "<span class=\"headlinksleft\">\n",
       " <img alt=\"*\" src=\"gif/Bullet.gif\">\n",
       "<a href=\"index.htm\">Home</a>\n",
       "<img alt=\"*\" src=\"gif/Bullet.gif\">\n",
       "<a href=\"Loney.htm\">Loney home</a>\n",
       "<img alt=\"*\" src=\"gif/Bullet.gif\">\n",
       "<a href=\"Life.htm\">Life &amp; career</a>\n",
       "<img alt=\"*\" src=\"gif/Bullet.gif\">\n",
       "<a href=\"Documents.htm\">Documents</a>\n",
       "<img alt=\"*\" src=\"gif/Bullet.gif\">\n",
       "<a href=\"Album.htm\">Album</a>\n",
       "<img alt=\"*\" src=\"gif/Bullet.gif\">\n",
       "<a href=\"Ships.htm\">Ships</a>\n",
       "<img alt=\"*\" src=\"gif/Bullet.gif\">\n",
       "<a href=\"Portrait.htm\">Portrait</a>\n",
       "<img alt=\"*\" src=\"gif/Bullet.gif\">\n",
       "<a href=\"Uniform.htm\">Uniform</a>\n",
       "<img alt=\"*\" src=\"gif/Bullet.gif\">\n",
       "<a href=\"Background.htm\">Background</a>\n",
       "<img alt=\"*\" src=\"gif/Bullet.gif\">\n",
       "</img></img></img></img></img></img></img></img></img></img></span>\n",
       "<hr class=\"colr\">\n",
       "<table class=\"right\">\n",
       "<tr>\n",
       "<td><a href=\"http://validator.w3.org/check?uri=referer\"><img alt=\"Valid HTML 5.0\" src=\"png/html5.png\"/></a></td>\n",
       "</tr>\n",
       "</table>\n",
       "</hr></hr></hr></hr></div></body>\n",
       "</html>"
      ]
     },
     "execution_count": 3,
     "metadata": {},
     "output_type": "execute_result"
    }
   ],
   "source": [
    "soup = BeautifulSoup(r.text, \"html.parser\")\n",
    "soup"
   ]
  },
  {
   "cell_type": "code",
   "execution_count": 4,
   "metadata": {
    "collapsed": false
   },
   "outputs": [
    {
     "data": {
      "text/plain": [
       "<table class=\"tbl width100\">\n",
       "<colgroup><col><col class=\"width15\"><col class=\"width55\"><col class=\"width15\"></col></col></col></col></colgroup><tr><td style=\"border:none;\"> </td><td style=\"border:none;\"> </td><td style=\"border:none;\"> </td><td style=\"border:none;\"> </td></tr><tr><td class=\"tblfil\" colspan=\"3\" style=\"border-right:none;\"><b> Charles Adam R.N.</b></td><td class=\"tblfil\" style=\"border-left:none;\"><a href=\"OfficerExplanation.htm\">Explanation</a></td></tr>\n",
       "<tr><td colspan=\"4\">Son of the Rt Hon. William Adam, Lord Chief Commissioner of the Jury Court of Scotland.</td></tr>\n",
       "<tr><td colspan=\"4\"> </td></tr><tr><td class=\"tblfil2 right\">Date (from)</td><td class=\"tblfil2 right\">(Date to)</td><td class=\"tblfil2\" colspan=\"2\">Personal</td>\n",
       "<tr><td class=\"right\">6 October 1780</td><td> </td><td colspan=\"2\">Born.</td></tr>\n",
       "<tr><td class=\"right\">20 May 1831</td><td class=\"right\">6 July 1841</td><td colspan=\"2\">M.P. for Clackmannan and Kinross</td></tr>\n",
       "<tr><td class=\"right\">10 January 1835</td><td> </td><td colspan=\"2\">K.C.B. (Knight Commander of the Bath).</td></tr>\n",
       "<tr><td class=\"right\">19 September 1853</td><td> </td><td colspan=\"2\">Died.</td></tr>\n",
       "<tr><td colspan=\"4\">Literature: (<a href=\"ShowBooks.php?id=*23*56*\">DNB; Stenton</a>).</td></tr>\n",
       "<tr><td colspan=\"4\"> </td></tr><tr><td class=\"tblfil2 right\">Date</td><td class=\"tblfil2\" colspan=\"3\">Rank</td></tr>\n",
       "<tr><td class=\"right\">15 December 1790</td><td colspan=\"3\">Entered Navy</td></tr>\n",
       "<tr><td class=\"right\">8 February 1798</td><td colspan=\"3\">Lieutenant</td></tr>\n",
       "<tr><td class=\"right\">16 May 1798</td><td colspan=\"3\">Commander</td></tr>\n",
       "<tr><td class=\"right\">12 June 1799</td><td colspan=\"3\">Captain</td></tr>\n",
       "<tr><td class=\"right\">27 May 1825</td><td colspan=\"3\">Rear-Admiral</td></tr>\n",
       "<tr><td class=\"right\">10 January 1837</td><td colspan=\"3\">Vice-Admiral</td></tr>\n",
       "<tr><td class=\"right\">8 January 1848</td><td colspan=\"3\">Admiral</td></tr>\n",
       "<tr><td colspan=\"4\"> </td></tr><tr><td class=\"tblfil2 right\">Date from</td><td class=\"tblfil2 right\">Date to</td><td class=\"tblfil2\" colspan=\"2\">Service</td></tr>\n",
       "<tr><td class=\"right\">1799</td><td> </td><td colspan=\"2\">Captain in <a href=\"ShowShip.php?id=2463\">Sybille</a>, frigate</td></tr>\n",
       "<tr><td class=\"right\">23 May 1803</td><td class=\"right\">1805</td><td colspan=\"2\">Captain in <a href=\"ShowShip.php?id=2391\">Chiffonne</a>, frigate (French, captured by him in 1801)</td></tr>\n",
       "<tr><td class=\"right\">27 August 1805</td><td class=\"right\">6 April 1810</td><td colspan=\"2\">Captain in <a href=\"ShowShip.php?id=1977\">Resistance</a></td></tr>\n",
       "<tr><td class=\"right\">1811</td><td class=\"right\">1813</td><td colspan=\"2\">Captain in <a href=\"ShowShip.php?id=1627\">Invincible</a></td></tr>\n",
       "<tr><td class=\"right\">16 May 1814</td><td class=\"right\">29 June 1814</td><td colspan=\"2\">Captain in <a href=\"ShowShip.php?id=1599\">Impregnable</a></td></tr>\n",
       "<tr><td class=\"right\">15 December 1814</td><td class=\"right\">7 February 1816</td><td colspan=\"2\">Acting Captain in <a href=\"ShowShip.php?id=2015\">Royal Sovereign</a></td></tr>\n",
       "<tr><td class=\"right\">20 July 1821</td><td class=\"right\">25 May 1825</td><td colspan=\"2\">Captain in <a href=\"ShowShip.php?id=2015\">Royal Sovereign</a></td></tr>\n",
       "<tr><td class=\"right\">1 November 1834</td><td class=\"right\">23 December 1834</td><td colspan=\"2\">Commissioner of the Admiralty (1st Naval Lord)</td></tr>\n",
       "<tr><td class=\"right\">25 April 1835</td><td class=\"right\">8 September 1841</td><td colspan=\"2\">Commissioner of the Admiralty (1st Naval Lord)</td></tr>\n",
       "<tr><td class=\"right\">17 August 1841</td><td class=\"right\">27 December 1844</td><td colspan=\"2\">Commander-in-chief, North America and West Indies (flag in Illustrious)</td></tr>\n",
       "<tr><td class=\"right\">24 July 1846</td><td class=\"right\">20 July 1847</td><td colspan=\"2\">Commissioner of the Admiralty (1st Naval Lord)</td></tr>\n",
       "<tr><td class=\"right\">1847</td><td> </td><td colspan=\"2\">Governor of Greenwich Hospital</td></tr>\n",
       "</tr></table>"
      ]
     },
     "execution_count": 4,
     "metadata": {},
     "output_type": "execute_result"
    }
   ],
   "source": [
    "table = soup.find(\"table\", class_=\"tbl width100\")\n",
    "table"
   ]
  },
  {
   "cell_type": "code",
   "execution_count": 5,
   "metadata": {
    "collapsed": false
   },
   "outputs": [],
   "source": [
    "name = table.find(\"td\", class_=\"tblfil\", colspan=\"3\")\n",
    "name = name.text"
   ]
  },
  {
   "cell_type": "code",
   "execution_count": 6,
   "metadata": {
    "collapsed": false
   },
   "outputs": [
    {
     "data": {
      "text/plain": [
       "list"
      ]
     },
     "execution_count": 6,
     "metadata": {},
     "output_type": "execute_result"
    }
   ],
   "source": [
    "name = name.split( )\n",
    "type(name)"
   ]
  },
  {
   "cell_type": "code",
   "execution_count": 7,
   "metadata": {
    "collapsed": false
   },
   "outputs": [
    {
     "data": {
      "text/plain": [
       "['Charles', 'Adam']"
      ]
     },
     "execution_count": 7,
     "metadata": {},
     "output_type": "execute_result"
    }
   ],
   "source": [
    "name.remove(\"R.N.\")\n",
    "name"
   ]
  },
  {
   "cell_type": "code",
   "execution_count": 8,
   "metadata": {
    "collapsed": false
   },
   "outputs": [
    {
     "data": {
      "text/plain": [
       "[<td class=\"tblfil2 right\">Date (from)</td>,\n",
       " <td class=\"tblfil2 right\">(Date to)</td>,\n",
       " <td class=\"tblfil2 right\">Date</td>,\n",
       " <td class=\"tblfil2 right\">Date from</td>,\n",
       " <td class=\"tblfil2 right\">Date to</td>]"
      ]
     },
     "execution_count": 8,
     "metadata": {},
     "output_type": "execute_result"
    }
   ],
   "source": [
    "date_all = table.find_all(\"td\", class_=\"tblfil2 right\")\n",
    "date_all"
   ]
  },
  {
   "cell_type": "code",
   "execution_count": 9,
   "metadata": {
    "collapsed": false
   },
   "outputs": [
    {
     "data": {
      "text/plain": [
       "[<td class=\"tblfil2 right\">Date (from)</td>,\n",
       " <td class=\"tblfil2 right\">(Date to)</td>,\n",
       " <td class=\"tblfil2 right\">Date</td>,\n",
       " <td class=\"tblfil2 right\">Date from</td>,\n",
       " <td class=\"tblfil2 right\">Date to</td>]"
      ]
     },
     "execution_count": 9,
     "metadata": {},
     "output_type": "execute_result"
    }
   ],
   "source": [
    "list (date_all)"
   ]
  },
  {
   "cell_type": "code",
   "execution_count": 10,
   "metadata": {
    "collapsed": false
   },
   "outputs": [
    {
     "name": "stdout",
     "output_type": "stream",
     "text": [
      "<td class=\"tblfil2 right\">Date</td>\n",
      "<td class=\"tblfil2 right\">Date from</td>\n"
     ]
    }
   ],
   "source": [
    "date = date_all[2]\n",
    "print(date)\n",
    "date_from = date_all[3]\n",
    "print(date_from)"
   ]
  },
  {
   "cell_type": "code",
   "execution_count": 11,
   "metadata": {
    "collapsed": false
   },
   "outputs": [
    {
     "data": {
      "text/plain": [
       "['\\n',\n",
       " <colgroup><col><col class=\"width15\"><col class=\"width55\"><col class=\"width15\"></col></col></col></col></colgroup>,\n",
       " <tr><td style=\"border:none;\"> </td><td style=\"border:none;\"> </td><td style=\"border:none;\"> </td><td style=\"border:none;\"> </td></tr>,\n",
       " <tr><td class=\"tblfil\" colspan=\"3\" style=\"border-right:none;\"><b> Charles Adam R.N.</b></td><td class=\"tblfil\" style=\"border-left:none;\"><a href=\"OfficerExplanation.htm\">Explanation</a></td></tr>,\n",
       " '\\n',\n",
       " <tr><td colspan=\"4\">Son of the Rt Hon. William Adam, Lord Chief Commissioner of the Jury Court of Scotland.</td></tr>,\n",
       " '\\n',\n",
       " <tr><td colspan=\"4\"> </td></tr>,\n",
       " <tr><td class=\"tblfil2 right\">Date (from)</td><td class=\"tblfil2 right\">(Date to)</td><td class=\"tblfil2\" colspan=\"2\">Personal</td>\n",
       " <tr><td class=\"right\">6 October 1780</td><td> </td><td colspan=\"2\">Born.</td></tr>\n",
       " <tr><td class=\"right\">20 May 1831</td><td class=\"right\">6 July 1841</td><td colspan=\"2\">M.P. for Clackmannan and Kinross</td></tr>\n",
       " <tr><td class=\"right\">10 January 1835</td><td> </td><td colspan=\"2\">K.C.B. (Knight Commander of the Bath).</td></tr>\n",
       " <tr><td class=\"right\">19 September 1853</td><td> </td><td colspan=\"2\">Died.</td></tr>\n",
       " <tr><td colspan=\"4\">Literature: (<a href=\"ShowBooks.php?id=*23*56*\">DNB; Stenton</a>).</td></tr>\n",
       " <tr><td colspan=\"4\"> </td></tr><tr><td class=\"tblfil2 right\">Date</td><td class=\"tblfil2\" colspan=\"3\">Rank</td></tr>\n",
       " <tr><td class=\"right\">15 December 1790</td><td colspan=\"3\">Entered Navy</td></tr>\n",
       " <tr><td class=\"right\">8 February 1798</td><td colspan=\"3\">Lieutenant</td></tr>\n",
       " <tr><td class=\"right\">16 May 1798</td><td colspan=\"3\">Commander</td></tr>\n",
       " <tr><td class=\"right\">12 June 1799</td><td colspan=\"3\">Captain</td></tr>\n",
       " <tr><td class=\"right\">27 May 1825</td><td colspan=\"3\">Rear-Admiral</td></tr>\n",
       " <tr><td class=\"right\">10 January 1837</td><td colspan=\"3\">Vice-Admiral</td></tr>\n",
       " <tr><td class=\"right\">8 January 1848</td><td colspan=\"3\">Admiral</td></tr>\n",
       " <tr><td colspan=\"4\"> </td></tr><tr><td class=\"tblfil2 right\">Date from</td><td class=\"tblfil2 right\">Date to</td><td class=\"tblfil2\" colspan=\"2\">Service</td></tr>\n",
       " <tr><td class=\"right\">1799</td><td> </td><td colspan=\"2\">Captain in <a href=\"ShowShip.php?id=2463\">Sybille</a>, frigate</td></tr>\n",
       " <tr><td class=\"right\">23 May 1803</td><td class=\"right\">1805</td><td colspan=\"2\">Captain in <a href=\"ShowShip.php?id=2391\">Chiffonne</a>, frigate (French, captured by him in 1801)</td></tr>\n",
       " <tr><td class=\"right\">27 August 1805</td><td class=\"right\">6 April 1810</td><td colspan=\"2\">Captain in <a href=\"ShowShip.php?id=1977\">Resistance</a></td></tr>\n",
       " <tr><td class=\"right\">1811</td><td class=\"right\">1813</td><td colspan=\"2\">Captain in <a href=\"ShowShip.php?id=1627\">Invincible</a></td></tr>\n",
       " <tr><td class=\"right\">16 May 1814</td><td class=\"right\">29 June 1814</td><td colspan=\"2\">Captain in <a href=\"ShowShip.php?id=1599\">Impregnable</a></td></tr>\n",
       " <tr><td class=\"right\">15 December 1814</td><td class=\"right\">7 February 1816</td><td colspan=\"2\">Acting Captain in <a href=\"ShowShip.php?id=2015\">Royal Sovereign</a></td></tr>\n",
       " <tr><td class=\"right\">20 July 1821</td><td class=\"right\">25 May 1825</td><td colspan=\"2\">Captain in <a href=\"ShowShip.php?id=2015\">Royal Sovereign</a></td></tr>\n",
       " <tr><td class=\"right\">1 November 1834</td><td class=\"right\">23 December 1834</td><td colspan=\"2\">Commissioner of the Admiralty (1st Naval Lord)</td></tr>\n",
       " <tr><td class=\"right\">25 April 1835</td><td class=\"right\">8 September 1841</td><td colspan=\"2\">Commissioner of the Admiralty (1st Naval Lord)</td></tr>\n",
       " <tr><td class=\"right\">17 August 1841</td><td class=\"right\">27 December 1844</td><td colspan=\"2\">Commander-in-chief, North America and West Indies (flag in Illustrious)</td></tr>\n",
       " <tr><td class=\"right\">24 July 1846</td><td class=\"right\">20 July 1847</td><td colspan=\"2\">Commissioner of the Admiralty (1st Naval Lord)</td></tr>\n",
       " <tr><td class=\"right\">1847</td><td> </td><td colspan=\"2\">Governor of Greenwich Hospital</td></tr>\n",
       " </tr>,\n",
       " <td class=\"tblfil2 right\">Date (from)</td>,\n",
       " <td class=\"tblfil2 right\">(Date to)</td>,\n",
       " <td class=\"tblfil2\" colspan=\"2\">Personal</td>,\n",
       " <td class=\"right\">6 October 1780</td>,\n",
       " <td> </td>,\n",
       " <td colspan=\"2\">Born.</td>,\n",
       " <td class=\"right\">20 May 1831</td>,\n",
       " <td class=\"right\">6 July 1841</td>,\n",
       " <td colspan=\"2\">M.P. for Clackmannan and Kinross</td>,\n",
       " <td class=\"right\">10 January 1835</td>,\n",
       " <td> </td>,\n",
       " <td colspan=\"2\">K.C.B. (Knight Commander of the Bath).</td>,\n",
       " <td class=\"right\">19 September 1853</td>,\n",
       " <td> </td>,\n",
       " <td colspan=\"2\">Died.</td>,\n",
       " <td colspan=\"4\">Literature: (<a href=\"ShowBooks.php?id=*23*56*\">DNB; Stenton</a>).</td>,\n",
       " <td colspan=\"4\"> </td>,\n",
       " <td class=\"tblfil2 right\">Date</td>,\n",
       " <td class=\"tblfil2\" colspan=\"3\">Rank</td>,\n",
       " <td class=\"right\">15 December 1790</td>,\n",
       " <td colspan=\"3\">Entered Navy</td>,\n",
       " <td class=\"right\">8 February 1798</td>,\n",
       " <td colspan=\"3\">Lieutenant</td>,\n",
       " <td class=\"right\">16 May 1798</td>,\n",
       " <td colspan=\"3\">Commander</td>,\n",
       " <td class=\"right\">12 June 1799</td>,\n",
       " <td colspan=\"3\">Captain</td>,\n",
       " <td class=\"right\">27 May 1825</td>,\n",
       " <td colspan=\"3\">Rear-Admiral</td>,\n",
       " <td class=\"right\">10 January 1837</td>,\n",
       " <td colspan=\"3\">Vice-Admiral</td>,\n",
       " <td class=\"right\">8 January 1848</td>,\n",
       " <td colspan=\"3\">Admiral</td>,\n",
       " <td colspan=\"4\"> </td>,\n",
       " <td class=\"tblfil2 right\">Date from</td>,\n",
       " <td class=\"tblfil2 right\">Date to</td>,\n",
       " <td class=\"tblfil2\" colspan=\"2\">Service</td>,\n",
       " <td class=\"right\">1799</td>,\n",
       " <td> </td>,\n",
       " <td colspan=\"2\">Captain in <a href=\"ShowShip.php?id=2463\">Sybille</a>, frigate</td>,\n",
       " <td class=\"right\">23 May 1803</td>,\n",
       " <td class=\"right\">1805</td>,\n",
       " <td colspan=\"2\">Captain in <a href=\"ShowShip.php?id=2391\">Chiffonne</a>, frigate (French, captured by him in 1801)</td>,\n",
       " <td class=\"right\">27 August 1805</td>,\n",
       " <td class=\"right\">6 April 1810</td>,\n",
       " <td colspan=\"2\">Captain in <a href=\"ShowShip.php?id=1977\">Resistance</a></td>,\n",
       " <td class=\"right\">1811</td>,\n",
       " <td class=\"right\">1813</td>,\n",
       " <td colspan=\"2\">Captain in <a href=\"ShowShip.php?id=1627\">Invincible</a></td>,\n",
       " <td class=\"right\">16 May 1814</td>,\n",
       " <td class=\"right\">29 June 1814</td>,\n",
       " <td colspan=\"2\">Captain in <a href=\"ShowShip.php?id=1599\">Impregnable</a></td>,\n",
       " <td class=\"right\">15 December 1814</td>,\n",
       " <td class=\"right\">7 February 1816</td>,\n",
       " <td colspan=\"2\">Acting Captain in <a href=\"ShowShip.php?id=2015\">Royal Sovereign</a></td>,\n",
       " <td class=\"right\">20 July 1821</td>,\n",
       " <td class=\"right\">25 May 1825</td>,\n",
       " <td colspan=\"2\">Captain in <a href=\"ShowShip.php?id=2015\">Royal Sovereign</a></td>,\n",
       " <td class=\"right\">1 November 1834</td>,\n",
       " <td class=\"right\">23 December 1834</td>,\n",
       " <td colspan=\"2\">Commissioner of the Admiralty (1st Naval Lord)</td>,\n",
       " <td class=\"right\">25 April 1835</td>,\n",
       " <td class=\"right\">8 September 1841</td>,\n",
       " <td colspan=\"2\">Commissioner of the Admiralty (1st Naval Lord)</td>,\n",
       " <td class=\"right\">17 August 1841</td>,\n",
       " <td class=\"right\">27 December 1844</td>,\n",
       " <td colspan=\"2\">Commander-in-chief, North America and West Indies (flag in Illustrious)</td>,\n",
       " <td class=\"right\">24 July 1846</td>,\n",
       " <td class=\"right\">20 July 1847</td>,\n",
       " <td colspan=\"2\">Commissioner of the Admiralty (1st Naval Lord)</td>,\n",
       " <td class=\"right\">1847</td>,\n",
       " <td> </td>,\n",
       " <td colspan=\"2\">Governor of Greenwich Hospital</td>]"
      ]
     },
     "execution_count": 11,
     "metadata": {},
     "output_type": "execute_result"
    }
   ],
   "source": [
    "result = []\n",
    "\n",
    "for row in table: \n",
    "    result.append(row)\n",
    "\n",
    "for col in row.find_all(\"td\"):\n",
    "    result.append(col)\n",
    "\n",
    "result "
   ]
  },
  {
   "cell_type": "code",
   "execution_count": 12,
   "metadata": {
    "collapsed": false
   },
   "outputs": [
    {
     "data": {
      "text/plain": [
       "27"
      ]
     },
     "execution_count": 12,
     "metadata": {},
     "output_type": "execute_result"
    }
   ],
   "source": [
    "i = 0 \n",
    "\n",
    "for l in result: \n",
    "    if l.string == \"Rank\":\n",
    "        break\n",
    "    else:\n",
    "        i+=1\n",
    "\n",
    "i "
   ]
  },
  {
   "cell_type": "code",
   "execution_count": 13,
   "metadata": {
    "collapsed": false
   },
   "outputs": [
    {
     "data": {
      "text/plain": [
       "16"
      ]
     },
     "execution_count": 13,
     "metadata": {},
     "output_type": "execute_result"
    }
   ],
   "source": [
    "j = 0 \n",
    "\n",
    "for k in result[i:]: \n",
    "    if k.string == \"Date from\":\n",
    "        break\n",
    "    else:\n",
    "        j+=1\n",
    "\n",
    "j"
   ]
  },
  {
   "cell_type": "code",
   "execution_count": 14,
   "metadata": {
    "collapsed": false
   },
   "outputs": [
    {
     "name": "stdout",
     "output_type": "stream",
     "text": [
      "<td class=\"right\">15 December 1790</td>\n",
      "<td colspan=\"3\">Entered Navy</td>\n"
     ]
    }
   ],
   "source": [
    "print(result [28])\n",
    "print(result[29])"
   ]
  },
  {
   "cell_type": "code",
   "execution_count": 15,
   "metadata": {
    "collapsed": false
   },
   "outputs": [
    {
     "name": "stdout",
     "output_type": "stream",
     "text": [
      "15 December 1790 : Entered Navy\n",
      "8 February 1798 : Lieutenant\n",
      "16 May 1798 : Commander\n",
      "12 June 1799 : Captain\n",
      "27 May 1825 : Rear-Admiral\n",
      "10 January 1837 : Vice-Admiral\n",
      "8 January 1848 : Admiral\n"
     ]
    }
   ],
   "source": [
    "i = i+1\n",
    "a = i\n",
    "b = (i+j)-4 #sonst überschüssige Info; abschneiden der letzten zwei Zeilen \n",
    "\n",
    "for line in result[a:b]:\n",
    "    if (i <= b):\n",
    "        y = (result[i].string + \" : \" + result[i+1].string)\n",
    "        i = i +2\n",
    "        print(y)\n",
    "    else: \n",
    "        break"
   ]
  }
 ],
 "metadata": {
  "kernelspec": {
   "display_name": "Python 3",
   "language": "python",
   "name": "python3"
  },
  "language_info": {
   "codemirror_mode": {
    "name": "ipython",
    "version": 3
   },
   "file_extension": ".py",
   "mimetype": "text/x-python",
   "name": "python",
   "nbconvert_exporter": "python",
   "pygments_lexer": "ipython3",
   "version": "3.5.3"
  }
 },
 "nbformat": 4,
 "nbformat_minor": 2
}
